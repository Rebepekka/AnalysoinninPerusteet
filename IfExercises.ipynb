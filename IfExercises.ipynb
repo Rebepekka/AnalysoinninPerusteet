{
 "cells": [
  {
   "cell_type": "code",
   "execution_count": 8,
   "metadata": {},
   "outputs": [
    {
     "name": "stdout",
     "output_type": "stream",
     "text": [
      "Number1 is NOT equal to number2\n"
     ]
    }
   ],
   "source": [
    "# Tehtävä 1\n",
    "number1=1\n",
    "number2=2\n",
    "if number1 == number2:\n",
    "    print('Number1 is equal to number2.')\n",
    "if number1 > number2:\n",
    "    print('Number1 is greater than number2.')\n",
    "if number1 >= number2:\n",
    "    print('Number1 is greater or equal to number2.')\n",
    "if number1 != number2:\n",
    "    print('Number1 is NOT equal to number2')"
   ]
  },
  {
   "cell_type": "code",
   "execution_count": 10,
   "metadata": {},
   "outputs": [
    {
     "name": "stdout",
     "output_type": "stream",
     "text": [
      "All numbers are equal.\n",
      "Number1 and number2 are equal OR number2 and number3 are equal.\n",
      "Number1 and number2 are equal.\n"
     ]
    }
   ],
   "source": [
    "# Tehtävä 2\n",
    "number1=3\n",
    "number2=3\n",
    "number3=3\n",
    "if number1 == number2 == number3:\n",
    "    print('All numbers are equal.')\n",
    "if number1 == number2 or number2 == number3:\n",
    "    print('Number1 and number2 are equal OR number2 and number3 are equal.')\n",
    "if number1 > number2 & number1 > number3:\n",
    "    print('Number1 is greater than number2 AND number1 is greater than number3.')\n",
    "if number1 > number2:\n",
    "    print('Number1 is greater than number2.')\n",
    "elif number2 > number3:\n",
    "    print('Number2 is greater than number3.')\n",
    "if number1 == number2:\n",
    "    print('Number1 and number2 are equal.')\n",
    "elif number1 == number3:\n",
    "    print('Number1 and number3 are equal.')"
   ]
  },
  {
   "cell_type": "code",
   "execution_count": 18,
   "metadata": {},
   "outputs": [
    {
     "name": "stdout",
     "output_type": "stream",
     "text": [
      "Name1 and name2 are not equal\n",
      "Name1 and name3 are equal.\n"
     ]
    }
   ],
   "source": [
    "# Tehtävä 3\n",
    "name1=\"Marja\"\n",
    "name2=\"Terttu\"\n",
    "name3=\"Marja\"\n",
    "if name1 == name2:\n",
    "    print('Name1 and name2 are equal')\n",
    "if name1 != name2:\n",
    "    print('Name1 and name2 are not equal')\n",
    "if name1 == name2:\n",
    "    print('Name1 and name2 are equal')\n",
    "elif name1 == name3:\n",
    "    print('Name1 and name3 are equal.')"
   ]
  }
 ],
 "metadata": {
  "kernelspec": {
   "display_name": "Python 3",
   "language": "python",
   "name": "python3"
  },
  "language_info": {
   "codemirror_mode": {
    "name": "ipython",
    "version": 3
   },
   "file_extension": ".py",
   "mimetype": "text/x-python",
   "name": "python",
   "nbconvert_exporter": "python",
   "pygments_lexer": "ipython3",
   "version": "3.12.0"
  },
  "orig_nbformat": 4
 },
 "nbformat": 4,
 "nbformat_minor": 2
}
