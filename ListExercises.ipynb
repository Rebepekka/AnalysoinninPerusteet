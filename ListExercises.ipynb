{
 "cells": [
  {
   "cell_type": "code",
   "execution_count": 27,
   "metadata": {},
   "outputs": [
    {
     "name": "stdout",
     "output_type": "stream",
     "text": [
      "['table', 'chair', 'shelf', 'Sofa']\n",
      "table chair\n",
      "Sofa\n"
     ]
    },
    {
     "data": {
      "text/plain": [
       "True"
      ]
     },
     "execution_count": 27,
     "metadata": {},
     "output_type": "execute_result"
    }
   ],
   "source": [
    "# Exercise 1\n",
    "furniture = ['table', 'chair', 'shelf', 'Sofa']\n",
    "print (furniture)\n",
    "print (furniture[0], furniture[1])\n",
    "if furniture[0] == 'Sofa' or furniture[1] == 'Sofa' or furniture[2] == 'Sofa' or furniture[3] == 'Sofa':\n",
    "        print ('Sofa')\n",
    "'Sofa' in furniture"
   ]
  },
  {
   "cell_type": "code",
   "execution_count": 36,
   "metadata": {},
   "outputs": [
    {
     "name": "stdout",
     "output_type": "stream",
     "text": [
      "[2, 6, 2, 1, 4]\n",
      "15\n",
      "6\n"
     ]
    }
   ],
   "source": [
    "# Exercise 2\n",
    "from random import randint\n",
    "thrownDiceNumber = []\n",
    "for i in range(5):\n",
    "    thrownDiceNumber.append(randint(1,6))\n",
    "print (thrownDiceNumber)\n",
    "print (sum(thrownDiceNumber))\n",
    "print(max(thrownDiceNumber))"
   ]
  },
  {
   "cell_type": "code",
   "execution_count": 11,
   "metadata": {},
   "outputs": [
    {
     "name": "stdout",
     "output_type": "stream",
     "text": [
      "[4, 13, 16, 6, 15]\n"
     ]
    }
   ],
   "source": [
    "# exercise 3\n",
    "import random\n",
    "numberApp = random.sample(range(1, 21),5)\n",
    "print(numberApp)\n",
    "import random\n"
   ]
  }
 ],
 "metadata": {
  "kernelspec": {
   "display_name": "Python 3",
   "language": "python",
   "name": "python3"
  },
  "language_info": {
   "codemirror_mode": {
    "name": "ipython",
    "version": 3
   },
   "file_extension": ".py",
   "mimetype": "text/x-python",
   "name": "python",
   "nbconvert_exporter": "python",
   "pygments_lexer": "ipython3",
   "version": "3.12.0"
  },
  "orig_nbformat": 4
 },
 "nbformat": 4,
 "nbformat_minor": 2
}
