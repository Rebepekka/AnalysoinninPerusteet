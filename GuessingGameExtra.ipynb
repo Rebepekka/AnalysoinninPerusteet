{
 "cells": [
  {
   "cell_type": "code",
   "execution_count": 5,
   "metadata": {},
   "outputs": [
    {
     "name": "stdout",
     "output_type": "stream",
     "text": [
      "Congratulations! Guesses: 10\n"
     ]
    }
   ],
   "source": [
    "name = ''\n",
    "counter = 1\n",
    "while name != 'Tommi':\n",
    "    name = input('Please guess my name:')\n",
    "    if name == 'Tommi':\n",
    "        print('Congratulations! Guesses:',counter)\n",
    "    else:\n",
    "        quit = input(\"Do you want to quit? (y/n) \")\n",
    "        if quit == \"y\":\n",
    "            break\n",
    "    counter += 1\n",
    "        \n",
    "    \n",
    "    \n",
    "\n",
    "    \n"
   ]
  }
 ],
 "metadata": {
  "kernelspec": {
   "display_name": "Python 3",
   "language": "python",
   "name": "python3"
  },
  "language_info": {
   "codemirror_mode": {
    "name": "ipython",
    "version": 3
   },
   "file_extension": ".py",
   "mimetype": "text/x-python",
   "name": "python",
   "nbconvert_exporter": "python",
   "pygments_lexer": "ipython3",
   "version": "3.12.0"
  },
  "orig_nbformat": 4
 },
 "nbformat": 4,
 "nbformat_minor": 2
}
