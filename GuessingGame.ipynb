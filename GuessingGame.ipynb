{
 "cells": [
  {
   "cell_type": "code",
   "execution_count": 37,
   "metadata": {},
   "outputs": [
    {
     "name": "stdout",
     "output_type": "stream",
     "text": [
      "Please guess my name.\n",
      "Please guess my name.\n",
      "Congratulations!\n"
     ]
    }
   ],
   "source": [
    "name = ''\n",
    "while name != 'Tommi':\n",
    "    name = input('Please guess my name.')\n",
    "    if name == 'Tommi':\n",
    "        print('Congratulations!')\n",
    "    else:\n",
    "        print('Please guess my name.')\n"
   ]
  }
 ],
 "metadata": {
  "kernelspec": {
   "display_name": "Python 3",
   "language": "python",
   "name": "python3"
  },
  "language_info": {
   "codemirror_mode": {
    "name": "ipython",
    "version": 3
   },
   "file_extension": ".py",
   "mimetype": "text/x-python",
   "name": "python",
   "nbconvert_exporter": "python",
   "pygments_lexer": "ipython3",
   "version": "3.12.0"
  },
  "orig_nbformat": 4
 },
 "nbformat": 4,
 "nbformat_minor": 2
}
