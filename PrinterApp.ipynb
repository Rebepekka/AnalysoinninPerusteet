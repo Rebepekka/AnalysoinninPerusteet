{
 "cells": [
  {
   "cell_type": "code",
   "execution_count": 16,
   "metadata": {},
   "outputs": [
    {
     "name": "stdout",
     "output_type": "stream",
     "text": [
      "Printer App\n",
      "This app is made by: Rebekka\n"
     ]
    }
   ],
   "source": [
    "# Tehtävät 1. - 5.\n",
    "print('Printer App')\n",
    "creator='Rebekka'\n",
    "print('This app is made by: '+creator)"
   ]
  },
  {
   "cell_type": "code",
   "execution_count": 5,
   "metadata": {},
   "outputs": [
    {
     "name": "stdout",
     "output_type": "stream",
     "text": [
      "The value of number1 is 10\n",
      "The value of number2 is 3\n"
     ]
    }
   ],
   "source": [
    "# Tehtävät 6. - 9.\n",
    "number1=10\n",
    "number2=3\n",
    "# print(number1)\n",
    "print('The value of number1 is',number1)\n",
    "print('The value of number2 is',number2)\n"
   ]
  },
  {
   "cell_type": "code",
   "execution_count": 12,
   "metadata": {},
   "outputs": [
    {
     "name": "stdout",
     "output_type": "stream",
     "text": [
      "150\n",
      "10 * 15  = 150\n",
      "10 * 15 = 150\n",
      "150\n",
      "25\n",
      "-5\n",
      "0.6666666666666666\n"
     ]
    }
   ],
   "source": [
    "# Tehtävät 10. - 15.\n",
    "number1=10\n",
    "number2=15\n",
    "multiplication=number1*number2\n",
    "print(multiplication)\n",
    "print('10 * 15  =', multiplication)\n",
    "print(number1,'*',number2,'=',multiplication)\n",
    "print(number1*number2)\n",
    "print(number1+number2)\n",
    "print(number1-number2)\n",
    "print(number1/number2)\n"
   ]
  }
 ],
 "metadata": {
  "kernelspec": {
   "display_name": "Python 3",
   "language": "python",
   "name": "python3"
  },
  "language_info": {
   "codemirror_mode": {
    "name": "ipython",
    "version": 3
   },
   "file_extension": ".py",
   "mimetype": "text/x-python",
   "name": "python",
   "nbconvert_exporter": "python",
   "pygments_lexer": "ipython3",
   "version": "3.12.0"
  },
  "orig_nbformat": 4
 },
 "nbformat": 4,
 "nbformat_minor": 2
}
